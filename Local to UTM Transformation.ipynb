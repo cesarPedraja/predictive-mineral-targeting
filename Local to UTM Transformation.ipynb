{
 "cells": [
  {
   "cell_type": "code",
   "execution_count": 2,
   "id": "778f35df-0b9a-4934-b992-692fbda5bdcd",
   "metadata": {},
   "outputs": [
    {
     "name": "stdout",
     "output_type": "stream",
     "text": [
      "Requirement already satisfied: ezdxf in c:\\users\\cesar\\appdata\\local\\programs\\python\\python310\\lib\\site-packages (1.4.1)\n",
      "Requirement already satisfied: pyparsing>=2.0.1 in c:\\users\\cesar\\appdata\\local\\programs\\python\\python310\\lib\\site-packages (from ezdxf) (3.2.1)\n",
      "Requirement already satisfied: typing_extensions>=4.6.0 in c:\\users\\cesar\\appdata\\local\\programs\\python\\python310\\lib\\site-packages (from ezdxf) (4.12.2)\n",
      "Requirement already satisfied: numpy in c:\\users\\cesar\\appdata\\local\\programs\\python\\python310\\lib\\site-packages (from ezdxf) (1.26.4)\n",
      "Requirement already satisfied: fonttools in c:\\users\\cesar\\appdata\\local\\programs\\python\\python310\\lib\\site-packages (from ezdxf) (4.55.3)\n"
     ]
    },
    {
     "name": "stderr",
     "output_type": "stream",
     "text": [
      "\n",
      "[notice] A new release of pip is available: 25.0.1 -> 25.1.1\n",
      "[notice] To update, run: python.exe -m pip install --upgrade pip\n"
     ]
    }
   ],
   "source": [
    "!pip install ezdxf"
   ]
  },
  {
   "cell_type": "code",
   "execution_count": 3,
   "id": "2aeb7fdb",
   "metadata": {},
   "outputs": [
    {
     "name": "stdout",
     "output_type": "stream",
     "text": [
      "Affine:\n",
      "  Local_X = 0.9982610214*UTM_X + -0.0645429578*UTM_Y + 152863.517\n",
      "  Local_Y = 0.0645496562*UTM_X + 0.9982436778*UTM_Y + -7556623.816\n",
      "RMS residual: 0.004482897257639093 m\n",
      "Transformed 2506 entities\n",
      "✓ DXF written → C:\\Users\\cesar\\OneDrive\\Desktop\\proyectos python\\Rosmery\\contours_local.dxf\n"
     ]
    }
   ],
   "source": [
    "import numpy as np, ezdxf\n",
    "from pathlib import Path\n",
    "from math import hypot, sqrt\n",
    "\n",
    "# ----------------------------------------------------------------------\n",
    "# -------------------------------------------------------------------------\n",
    "INPUT_DXF  = Path(\"contour_updated.dxf\")          # UTM‑based source\n",
    "OUTPUT_DXF = Path(\"contours_local.dxf\")  \n",
    "\n",
    "# 4 control points  (UTM → Local)\n",
    "utm   = np.array([[384717.299, 7729358.710],\n",
    "                  [383922.154, 7730392.702],\n",
    "                  [384612.840, 7722383.778],\n",
    "                  [384740.885, 7723557.596]])\n",
    "local = np.array([[38036.125, 183993.018],\n",
    "                  [37175.630, 184973.869],\n",
    "                  [38382.026, 177023.592],\n",
    "                  [38434.103, 178203.619]])\n",
    "\n",
    "# ----------------------------------------------------------------------\n",
    "# 2.  solve affine (Local = A·UTM + t)\n",
    "rows_A, rows_B = [], []\n",
    "for (ux, uy), (lx, ly) in zip(utm, local):\n",
    "    rows_A.extend([[ux, uy, 1, 0, 0, 0],\n",
    "                   [0, 0, 0, ux, uy, 1]])\n",
    "    rows_B.extend([lx, ly])\n",
    "\n",
    "a, b, c, d, e, f = np.linalg.lstsq(\n",
    "    np.asarray(rows_A, float),\n",
    "    np.asarray(rows_B, float),\n",
    "    rcond=None,\n",
    ")[0]\n",
    "\n",
    "def to_local(x, y):\n",
    "    return a*x + b*y + c, d*x + e*y + f\n",
    "\n",
    "print(\"Affine:\")\n",
    "print(f\"  Local_X = {a:.10f}*UTM_X + {b:.10f}*UTM_Y + {c:.3f}\")\n",
    "print(f\"  Local_Y = {d:.10f}*UTM_X + {e:.10f}*UTM_Y + {f:.3f}\")\n",
    "\n",
    "# sanity check\n",
    "err = np.array([to_local(*p) for p in utm]) - local\n",
    "print(\"RMS residual:\", sqrt((err**2).mean()), \"m\")\n",
    "\n",
    "# ----------------------------------------------------------------------\n",
    "# 3.  load DXF & transform\n",
    "doc = ezdxf.readfile(INPUT_DXF)\n",
    "msp = doc.modelspace()\n",
    "\n",
    "def tx(pt):\n",
    "    x, y, z = pt\n",
    "    lx, ly = to_local(x, y)\n",
    "    return (lx, ly, z)\n",
    "\n",
    "for ent in list(msp):               # safe copy\n",
    "    t = ent.dxftype()\n",
    "\n",
    "    if t == \"LINE\":\n",
    "        ent.dxf.start = tx(ent.dxf.start)\n",
    "        ent.dxf.end   = tx(ent.dxf.end)\n",
    "\n",
    "    elif t in {\"POINT\", \"CIRCLE\", \"ARC\"}:\n",
    "        ent.dxf.center = tx(ent.dxf.center)\n",
    "\n",
    "    elif t == \"LWPOLYLINE\":\n",
    "        # pull xyz plus widths/bulge, push back with same format\n",
    "        pts = ent.get_points(format=\"xyseb\")  # x, y, startw, endw, bulge\n",
    "        new_pts = []\n",
    "        for x, y, sw, ew, bulge in pts:\n",
    "            lx, ly = to_local(x, y)\n",
    "            new_pts.append((lx, ly, sw, ew, bulge))\n",
    "        ent.set_points(new_pts, format=\"xyseb\")\n",
    "\n",
    "    elif t == \"POLYLINE\":           # classic 3D\n",
    "        for v in ent.vertices():\n",
    "            v.dxf.location = tx(v.dxf.location)\n",
    "\n",
    "    # add more elifs (SPLINE, INSERT, …) if your file needs them\n",
    "\n",
    "print(f\"Transformed {len(msp)} entities\")\n",
    "\n",
    "# ----------------------------------------------------------------------\n",
    "# 4.  save\n",
    "doc.saveas(OUTPUT_DXF)\n",
    "print(\"✓ DXF written →\", OUTPUT_DXF.resolve())\n"
   ]
  },
  {
   "cell_type": "code",
   "execution_count": null,
   "id": "93345445",
   "metadata": {},
   "outputs": [],
   "source": []
  }
 ],
 "metadata": {
  "kernelspec": {
   "display_name": "Python 3",
   "language": "python",
   "name": "python3"
  },
  "language_info": {
   "codemirror_mode": {
    "name": "ipython",
    "version": 3
   },
   "file_extension": ".py",
   "mimetype": "text/x-python",
   "name": "python",
   "nbconvert_exporter": "python",
   "pygments_lexer": "ipython3",
   "version": "3.10.7"
  }
 },
 "nbformat": 4,
 "nbformat_minor": 5
}
